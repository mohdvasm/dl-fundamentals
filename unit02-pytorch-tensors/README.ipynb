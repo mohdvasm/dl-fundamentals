{
 "cells": [
  {
   "attachments": {},
   "cell_type": "markdown",
   "metadata": {},
   "source": [
    "# Using this Studio"
   ]
  },
  {
   "attachments": {},
   "cell_type": "markdown",
   "metadata": {},
   "source": [
    "You can find the code covered in the Unit 2 videos in the `./code-units` subfolder. I recommend you first watch the videos and then experiment with the code.\n",
    "\n",
    "- [The complete YouTube Playlist](https://www.youtube.com/watch?v=cwcaTNHgGuM&list=PLaMu-SDt_RB55zaDxbuX4DGLC3hIVOGv_) with all 12 videos in Unit 2\n",
    "- [Or access the Unit 2 videos on the Lightning website](https://lightning.ai/courses/deep-learning-fundamentals/2-0-unit-2-overview/), which includes additional quizzes"
   ]
  },
  {
   "attachments": {},
   "cell_type": "markdown",
   "metadata": {},
   "source": [
    "After exploring the code, you may want to try the following exercises in the `./exercises` subfolder. (Solutions to the excercises can be found in the `./solutions` subfolder)."
   ]
  },
  {
   "cell_type": "code",
   "execution_count": null,
   "metadata": {},
   "outputs": [],
   "source": []
  }
 ],
 "metadata": {
  "kernelspec": {
   "display_name": "Python 3 (ipykernel)",
   "language": "python",
   "name": "python3"
  },
  "language_info": {
   "codemirror_mode": {
    "name": "ipython",
    "version": 3
   },
   "file_extension": ".py",
   "mimetype": "text/x-python",
   "name": "python",
   "nbconvert_exporter": "python",
   "pygments_lexer": "ipython3",
   "version": "3.12.1"
  }
 },
 "nbformat": 4,
 "nbformat_minor": 4
}
