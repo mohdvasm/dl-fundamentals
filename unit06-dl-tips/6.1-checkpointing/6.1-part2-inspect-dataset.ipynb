{
 "cells": [
  {
   "cell_type": "markdown",
   "id": "bd50828b",
   "metadata": {},
   "source": [
    "# Unit 6. Essential Deep Learning Tips & Tricks\n",
    "\n",
    "## 6.1 Model Checkpointing and Early Stopping\n",
    "\n",
    "## Part 2. Preamble: Basic & General Dataset Inspection"
   ]
  },
  {
   "cell_type": "markdown",
   "id": "4b481b04",
   "metadata": {},
   "source": [
    "## 1) Installing Libraries"
   ]
  },
  {
   "cell_type": "code",
   "execution_count": 1,
   "id": "a43f67ab",
   "metadata": {},
   "outputs": [],
   "source": [
    "# !conda install jupyterlab numpy pandas matplotlib watermark sklearn --yes"
   ]
  },
  {
   "cell_type": "code",
   "execution_count": 2,
   "id": "c50ef89b",
   "metadata": {},
   "outputs": [],
   "source": [
    "# !pip install torch torchvision torchaudio"
   ]
  },
  {
   "cell_type": "code",
   "execution_count": 3,
   "id": "2c4153a1",
   "metadata": {},
   "outputs": [],
   "source": [
    "# !pip install lightning"
   ]
  },
  {
   "cell_type": "code",
   "execution_count": 1,
   "id": "c5d9128c",
   "metadata": {},
   "outputs": [
    {
     "name": "stdout",
     "output_type": "stream",
     "text": [
      "Python implementation: CPython\n",
      "Python version       : 3.12.1\n",
      "IPython version      : 8.27.0\n",
      "\n",
      "numpy       : 2.1.1\n",
      "pandas      : 2.2.3\n",
      "matplotlib  : 3.9.2\n",
      "torch       : 2.5.1\n",
      "lightning   : not installed\n",
      "scikit-learn: 1.5.2\n",
      "\n",
      "conda environment: n/a\n",
      "\n"
     ]
    }
   ],
   "source": [
    "%load_ext watermark\n",
    "%watermark -v -p numpy,pandas,matplotlib,torch,lightning,scikit-learn --conda"
   ]
  },
  {
   "cell_type": "markdown",
   "id": "ccbe2380",
   "metadata": {},
   "source": [
    "## 2) Loading the dataset"
   ]
  },
  {
   "cell_type": "code",
   "execution_count": 3,
   "id": "2dab9e25",
   "metadata": {},
   "outputs": [],
   "source": [
    "from shared_utilities import CustomDataModule\n",
    "\n",
    "dm = CustomDataModule()\n",
    "dm.setup(\"train\")"
   ]
  },
  {
   "cell_type": "code",
   "execution_count": 4,
   "id": "b23da6c1-7121-4095-a412-97b97636444d",
   "metadata": {},
   "outputs": [
    {
     "name": "stdout",
     "output_type": "stream",
     "text": [
      "Training set size: 14400\n",
      "Validation set size: 1600\n",
      "Test set size: 4000\n"
     ]
    }
   ],
   "source": [
    "print(\"Training set size:\", len(dm.train_dataset))\n",
    "print(\"Validation set size:\", len(dm.val_dataset))\n",
    "print(\"Test set size:\", len(dm.test_dataset))"
   ]
  },
  {
   "cell_type": "markdown",
   "id": "b8862d16",
   "metadata": {},
   "source": [
    "### Check label distribution"
   ]
  },
  {
   "cell_type": "code",
   "execution_count": 6,
   "id": "3c6ad482",
   "metadata": {},
   "outputs": [
    {
     "name": "stdout",
     "output_type": "stream",
     "text": [
      "\n",
      "Training label distribution:\n",
      "[(0, 7209), (1, 7191)]\n",
      "\n",
      "Validation label distribution:\n",
      "[(0, 791), (1, 809)]\n",
      "\n",
      "Test label distribution:\n",
      "[(0, 2027), (1, 1973)]\n"
     ]
    }
   ],
   "source": [
    "from collections import Counter\n",
    "\n",
    "train_loader = dm.train_dataloader()\n",
    "val_loader = dm.val_dataloader()\n",
    "test_loader = dm.test_dataloader()\n",
    "\n",
    "train_counter = Counter()\n",
    "for features, labels in train_loader:\n",
    "    train_counter.update(labels.tolist())\n",
    "    \n",
    "print(\"\\nTraining label distribution:\")\n",
    "print(sorted(train_counter.items()))\n",
    "\n",
    "    \n",
    "val_counter = Counter()\n",
    "for features, labels in val_loader:\n",
    "    val_counter.update(labels.tolist())\n",
    "    \n",
    "print(\"\\nValidation label distribution:\")\n",
    "print(sorted(val_counter.items()))\n",
    "    \n",
    "\n",
    "test_counter = Counter()\n",
    "for features, labels in test_loader:\n",
    "    test_counter.update(labels.tolist())\n",
    "\n",
    "print(\"\\nTest label distribution:\")\n",
    "print(sorted(test_counter.items()))"
   ]
  },
  {
   "cell_type": "markdown",
   "id": "04543738",
   "metadata": {},
   "source": [
    "## 3) Zero-rule baseline (majority class classifier)"
   ]
  },
  {
   "cell_type": "code",
   "execution_count": 7,
   "id": "8cfaf2d2",
   "metadata": {},
   "outputs": [
    {
     "name": "stdout",
     "output_type": "stream",
     "text": [
      "Majority class: 0\n",
      "Accuracy when always predicting the majority class:\n",
      "0.51 (50.68%)\n"
     ]
    }
   ],
   "source": [
    "majority_class = test_counter.most_common(1)[0]\n",
    "print(\"Majority class:\", majority_class[0])\n",
    "\n",
    "baseline_acc = majority_class[1] / sum(test_counter.values())\n",
    "print(\"Accuracy when always predicting the majority class:\")\n",
    "print(f\"{baseline_acc:.2f} ({baseline_acc*100:.2f}%)\")"
   ]
  },
  {
   "cell_type": "markdown",
   "id": "276d74fa",
   "metadata": {},
   "source": [
    "## 4) A quick visual check"
   ]
  },
  {
   "cell_type": "code",
   "execution_count": 8,
   "id": "1db08f09",
   "metadata": {},
   "outputs": [
    {
     "data": {
      "text/plain": [
       "torch.Size([32, 100])"
      ]
     },
     "execution_count": 8,
     "metadata": {},
     "output_type": "execute_result"
    }
   ],
   "source": [
    "features.shape"
   ]
  },
  {
   "cell_type": "code",
   "execution_count": 9,
   "id": "7b195f45-c69f-4536-b507-0df1f29927e7",
   "metadata": {},
   "outputs": [
    {
     "data": {
      "text/plain": [
       "tensor([-1.0024, -0.1871, -0.0753,  1.0124,  1.2639, -1.9450, -4.4824, -3.4725,\n",
       "         3.7921,  0.2157, -1.6438,  4.2781, -2.3388, -0.8952, -1.4974, -4.3888,\n",
       "         0.2676,  0.5185, -1.9450,  1.1234,  0.0289,  1.5448, -4.2949,  0.8634,\n",
       "        -2.5792,  4.8754,  0.8249, -4.4946,  0.9226, -4.4946,  0.0597, -2.9464,\n",
       "        -2.1122, -2.4712, -0.1437,  1.6721, -0.7004, -1.0092, -3.2290,  2.3953,\n",
       "        -2.3388, -4.4824,  4.1454,  2.6818, -1.4974,  0.5100,  2.7505, -0.9028,\n",
       "        -1.3736, -0.7225,  0.5747, -4.4824, -2.0825,  0.8780,  3.2301,  1.0947,\n",
       "         0.8193, -4.6827, -0.0749,  0.5185, -2.5792, -0.8514, -0.0891, -1.3285,\n",
       "        -2.1097, -4.4824, -4.6827, -0.1336,  0.1203,  2.3953,  4.2781, -1.0752,\n",
       "        -2.2972, -4.4946,  0.9662, -5.0314, -1.8789, -0.9486, -1.0092,  1.1786,\n",
       "         0.7567, -2.0825,  0.7605,  3.2301, -2.5792, -3.2290,  0.5185, -4.2949,\n",
       "        -2.5792, -1.8789,  0.5185, -3.4725, -1.0276, -0.1871, -0.5376,  1.0599,\n",
       "         0.8794,  0.0504, -1.8460, -1.2588])"
      ]
     },
     "execution_count": 9,
     "metadata": {},
     "output_type": "execute_result"
    }
   ],
   "source": [
    "features[0] # first training example"
   ]
  },
  {
   "cell_type": "code",
   "execution_count": null,
   "id": "71077426-8247-4711-85c2-c3bab2463058",
   "metadata": {},
   "outputs": [],
   "source": []
  },
  {
   "cell_type": "code",
   "execution_count": null,
   "id": "18cbe1a2-95fb-4ca5-b762-e6dd6e558f19",
   "metadata": {},
   "outputs": [],
   "source": []
  }
 ],
 "metadata": {
  "kernelspec": {
   "display_name": "Python 3",
   "language": "python",
   "name": "python3"
  },
  "language_info": {
   "codemirror_mode": {
    "name": "ipython",
    "version": 3
   },
   "file_extension": ".py",
   "mimetype": "text/x-python",
   "name": "python",
   "nbconvert_exporter": "python",
   "pygments_lexer": "ipython3",
   "version": "3.12.1"
  }
 },
 "nbformat": 4,
 "nbformat_minor": 5
}
